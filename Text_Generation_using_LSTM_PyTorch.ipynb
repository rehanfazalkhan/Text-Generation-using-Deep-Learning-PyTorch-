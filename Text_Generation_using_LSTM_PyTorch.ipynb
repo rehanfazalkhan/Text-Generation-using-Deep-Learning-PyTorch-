{
  "nbformat": 4,
  "nbformat_minor": 0,
  "metadata": {
    "colab": {
      "name": "Text Generation using LSTM PyTorch",
      "provenance": []
    },
    "kernelspec": {
      "name": "python3",
      "display_name": "Python 3"
    },
    "language_info": {
      "name": "python"
    },
    "accelerator": "GPU"
  },
  "cells": [
    {
      "cell_type": "code",
      "execution_count": null,
      "metadata": {
        "id": "yIjFlGA4ZgAJ"
      },
      "outputs": [],
      "source": [
        "import re\n",
        "import pickle \n",
        "import random\n",
        "import numpy as np\n",
        "import pandas as pd\n",
        "import torch\n",
        "import torch.nn as nn\n",
        "import torch.nn.functional as F\n",
        "from torch.utils.data import TensorDataset , DataLoader"
      ]
    },
    {
      "cell_type": "code",
      "source": [
        "#read pickle file\n",
        "pickle_file = open(\"/content/sample_data/plots_text.pickle\",\"rb\")\n",
        "movie_file = pickle.load(pickle_file)"
      ],
      "metadata": {
        "id": "--4sNgmEaeZj"
      },
      "execution_count": null,
      "outputs": []
    },
    {
      "cell_type": "markdown",
      "source": [
        "# New Section"
      ],
      "metadata": {
        "id": "VnnJDUSzvkLT"
      }
    },
    {
      "cell_type": "code",
      "source": [
        "movie_file[0]"
      ],
      "metadata": {
        "colab": {
          "base_uri": "https://localhost:8080/",
          "height": 124
        },
        "id": "oOE-pB2hb1Zw",
        "outputId": "164f692a-21ac-4c03-cecb-3e2f5228173a"
      },
      "execution_count": null,
      "outputs": [
        {
          "output_type": "execute_result",
          "data": {
            "text/plain": [
              "'barry is a private with the 101st airborne division of the united states army, stationed at fort campbell, kentucky. calpernia works as a showgirl at a transgender revue in nashville, tennessee when the two met in 1999. barry\\'s roommate justin fisher  brings barry to the club where she performs. when barry and calpernia begin seeing each other regularly, fisher begins spreading rumors on base about their relationship, which appeared to be a violation of the military\\'s \"don\\'t ask, don\\'t tell\" policy about discussing the sexual orientation of military personnel. barry faces increasing harassment and pressure, which explode into violence over fourth of july weekend. while calpernia performs in a pageant in nashville, barry is beaten to death in his sleep with a baseball bat by calvin glover, who had been goaded by fisher into committing the crime. the film ends with a discussion of the aftermath.'"
            ],
            "application/vnd.google.colaboratory.intrinsic+json": {
              "type": "string"
            }
          },
          "metadata": {},
          "execution_count": 3
        }
      ]
    },
    {
      "cell_type": "code",
      "source": [
        "len(movie_file)"
      ],
      "metadata": {
        "colab": {
          "base_uri": "https://localhost:8080/"
        },
        "id": "mT9SzvYxevol",
        "outputId": "11ea9a54-24f5-47ce-c985-06d44a5c7d80"
      },
      "execution_count": null,
      "outputs": [
        {
          "output_type": "execute_result",
          "data": {
            "text/plain": [
              "500"
            ]
          },
          "metadata": {},
          "execution_count": 4
        }
      ]
    },
    {
      "cell_type": "code",
      "source": [
        "#clean data\n",
        "clean_movie = [re.sub(\"[^a-z 0-9 ]\",\"\",i) for i in movie_file]\n"
      ],
      "metadata": {
        "id": "MfdxaYUdfQKy"
      },
      "execution_count": null,
      "outputs": []
    },
    {
      "cell_type": "code",
      "source": [
        "clean_movie[0]"
      ],
      "metadata": {
        "colab": {
          "base_uri": "https://localhost:8080/",
          "height": 124
        },
        "id": "U2HSZgdzgz81",
        "outputId": "3076ff2c-5622-43b3-ae3f-c40fbe36cda0"
      },
      "execution_count": null,
      "outputs": [
        {
          "output_type": "execute_result",
          "data": {
            "text/plain": [
              "'barry is a private with the 101st airborne division of the united states army stationed at fort campbell kentucky calpernia works as a showgirl at a transgender revue in nashville tennessee when the two met in 1999 barrys roommate justin fisher  brings barry to the club where she performs when barry and calpernia begin seeing each other regularly fisher begins spreading rumors on base about their relationship which appeared to be a violation of the militarys dont ask dont tell policy about discussing the sexual orientation of military personnel barry faces increasing harassment and pressure which explode into violence over fourth of july weekend while calpernia performs in a pageant in nashville barry is beaten to death in his sleep with a baseball bat by calvin glover who had been goaded by fisher into committing the crime the film ends with a discussion of the aftermath'"
            ],
            "application/vnd.google.colaboratory.intrinsic+json": {
              "type": "string"
            }
          },
          "metadata": {},
          "execution_count": 6
        }
      ]
    },
    {
      "cell_type": "code",
      "source": [
        "#create sequence \n",
        "def create_seq(text,seq_len=8):\n",
        "\n",
        "  sequence = []\n",
        "\n",
        "  if len(text.split()) > seq_len:\n",
        "    for i in range(seq_len,len(text.split())): #(8,50)\n",
        "      #select the sequnece of tokens\n",
        "      seq = text.split()[i-seq_len:i+1] #(0-9,1-10,2-11,3-12,4-13)\n",
        "      sequence.append(\" \".join(seq))\n",
        "\n",
        "    return sequence\n",
        "\n",
        "\n",
        "  else:\n",
        "    return [text]"
      ],
      "metadata": {
        "id": "kPQ8PdXig16U"
      },
      "execution_count": null,
      "outputs": []
    },
    {
      "cell_type": "code",
      "source": [
        "#[\"I\",\"Love\",\"my\",\"country\"]\n",
        "#[\"I\",\"Love\"]\n",
        "#[\"Love\",\"my\"]\n",
        "#[\"my\",\"country\"]\n",
        "\n",
        "#[I LOVE MY COUNTRY]"
      ],
      "metadata": {
        "id": "uwmyZgypklp6"
      },
      "execution_count": null,
      "outputs": []
    },
    {
      "cell_type": "code",
      "source": [
        "seqs = [create_seq(i) for i in clean_movie]"
      ],
      "metadata": {
        "id": "fR6OTiSsnUHg"
      },
      "execution_count": null,
      "outputs": []
    },
    {
      "cell_type": "code",
      "source": [
        "#mergs list-of-list into a single list\n",
        "seqs_s = sum(seqs,[])"
      ],
      "metadata": {
        "id": "ksFR5EiCneO4"
      },
      "execution_count": null,
      "outputs": []
    },
    {
      "cell_type": "code",
      "source": [
        "len(seqs)"
      ],
      "metadata": {
        "colab": {
          "base_uri": "https://localhost:8080/"
        },
        "id": "KQYrjnHdngSJ",
        "outputId": "80c37047-57a6-4ba3-962a-340f471db96c"
      },
      "execution_count": null,
      "outputs": [
        {
          "output_type": "execute_result",
          "data": {
            "text/plain": [
              "500"
            ]
          },
          "metadata": {},
          "execution_count": 11
        }
      ]
    },
    {
      "cell_type": "code",
      "source": [
        "seqs_n = []\n",
        "\n",
        "for i in seqs:\n",
        "  for j in i:\n",
        "    seqs_n.append(j)"
      ],
      "metadata": {
        "id": "zPzKofhCoe4u"
      },
      "execution_count": null,
      "outputs": []
    },
    {
      "cell_type": "code",
      "source": [
        "seq_nc = [j for i in seqs for j in i]"
      ],
      "metadata": {
        "id": "VDUscFhMqbTV"
      },
      "execution_count": null,
      "outputs": []
    },
    {
      "cell_type": "code",
      "source": [
        "len(seqs_n)"
      ],
      "metadata": {
        "colab": {
          "base_uri": "https://localhost:8080/"
        },
        "id": "X3Jb69ajpJfe",
        "outputId": "5d567c03-a2b6-49cb-cbb1-ee6027a454c2"
      },
      "execution_count": null,
      "outputs": [
        {
          "output_type": "execute_result",
          "data": {
            "text/plain": [
              "151501"
            ]
          },
          "metadata": {},
          "execution_count": 14
        }
      ]
    },
    {
      "cell_type": "code",
      "source": [
        "len(seq_nc)"
      ],
      "metadata": {
        "colab": {
          "base_uri": "https://localhost:8080/"
        },
        "id": "xLDm6Btxp_RV",
        "outputId": "384687d1-6cce-4ea0-fdee-afdbe1cbd762"
      },
      "execution_count": null,
      "outputs": [
        {
          "output_type": "execute_result",
          "data": {
            "text/plain": [
              "151501"
            ]
          },
          "metadata": {},
          "execution_count": 15
        }
      ]
    },
    {
      "cell_type": "code",
      "source": [
        "len(seqs_s)"
      ],
      "metadata": {
        "colab": {
          "base_uri": "https://localhost:8080/"
        },
        "id": "GIhZcYjcq_hH",
        "outputId": "46b2aa62-4baa-4e44-9b0b-b7ed9544160e"
      },
      "execution_count": null,
      "outputs": [
        {
          "output_type": "execute_result",
          "data": {
            "text/plain": [
              "151501"
            ]
          },
          "metadata": {},
          "execution_count": 16
        }
      ]
    },
    {
      "cell_type": "code",
      "source": [
        "#creat input & target sequence\n",
        "x = []\n",
        "y = []\n",
        "\n",
        "for i in seqs_s:\n",
        "  x.append(\" \".join(i.split()[:-1]))\n",
        "  y.append(\" \".join(i.split()[1:]))"
      ],
      "metadata": {
        "id": "tPQuP_lnrDbJ"
      },
      "execution_count": null,
      "outputs": []
    },
    {
      "cell_type": "code",
      "source": [
        "len(x) , len(y)"
      ],
      "metadata": {
        "colab": {
          "base_uri": "https://localhost:8080/"
        },
        "id": "mjBq5P2Sr3kr",
        "outputId": "fab0a369-abea-4cc0-ce61-8cb7b8f207e5"
      },
      "execution_count": null,
      "outputs": [
        {
          "output_type": "execute_result",
          "data": {
            "text/plain": [
              "(151501, 151501)"
            ]
          },
          "metadata": {},
          "execution_count": 18
        }
      ]
    },
    {
      "cell_type": "code",
      "source": [
        "# create int-to-word\n",
        "\n",
        "int2word = {}\n",
        "c = 0\n",
        "uni_word = set(\" \".join(clean_movie).split())\n",
        "\n",
        "# for i in uni_word:\n",
        "#   int2word[c] = i\n",
        "#   c += 1\n",
        "\n",
        "for index,word in enumerate(uni_word):\n",
        "  int2word[index] = word\n",
        "\n",
        "\n",
        "int_2_word = {index:word for index,word in enumerate(uni_word)}"
      ],
      "metadata": {
        "id": "Z2o9clS6PhEo"
      },
      "execution_count": null,
      "outputs": []
    },
    {
      "cell_type": "code",
      "source": [
        "word2int = {word:index for index,word in int2word.items()}"
      ],
      "metadata": {
        "id": "tofjFvYYSzAi"
      },
      "execution_count": null,
      "outputs": []
    },
    {
      "cell_type": "code",
      "source": [
        "len(int_2_word)"
      ],
      "metadata": {
        "colab": {
          "base_uri": "https://localhost:8080/"
        },
        "id": "-GPsWn2bQDAK",
        "outputId": "12505f55-ab16-442d-f4f2-0b2094c0dd98"
      },
      "execution_count": null,
      "outputs": [
        {
          "output_type": "execute_result",
          "data": {
            "text/plain": [
              "16531"
            ]
          },
          "metadata": {},
          "execution_count": 21
        }
      ]
    },
    {
      "cell_type": "code",
      "source": [
        "len(int2word)"
      ],
      "metadata": {
        "colab": {
          "base_uri": "https://localhost:8080/"
        },
        "id": "wXKWhl6WQn2x",
        "outputId": "b6250c08-f051-4169-860c-ac13029b43c4"
      },
      "execution_count": null,
      "outputs": [
        {
          "output_type": "execute_result",
          "data": {
            "text/plain": [
              "16531"
            ]
          },
          "metadata": {},
          "execution_count": 22
        }
      ]
    },
    {
      "cell_type": "code",
      "source": [
        "len(word2int)"
      ],
      "metadata": {
        "colab": {
          "base_uri": "https://localhost:8080/"
        },
        "id": "iH9456IjQo-e",
        "outputId": "7f1bd7d5-1809-4cd6-c6c3-360f4abbc6e0"
      },
      "execution_count": null,
      "outputs": [
        {
          "output_type": "execute_result",
          "data": {
            "text/plain": [
              "16531"
            ]
          },
          "metadata": {},
          "execution_count": 23
        }
      ]
    },
    {
      "cell_type": "code",
      "source": [
        "vocab_size = len(int2word)\n",
        "vocab_size"
      ],
      "metadata": {
        "colab": {
          "base_uri": "https://localhost:8080/"
        },
        "id": "F3I3g-0wS9hY",
        "outputId": "07df344b-6ea3-4775-e457-31ea832d1c3f"
      },
      "execution_count": null,
      "outputs": [
        {
          "output_type": "execute_result",
          "data": {
            "text/plain": [
              "16531"
            ]
          },
          "metadata": {},
          "execution_count": 24
        }
      ]
    },
    {
      "cell_type": "code",
      "source": [
        "def get_int_seq(seq):\n",
        "  return [word2int[w] for w in seq.split()]"
      ],
      "metadata": {
        "id": "C5HPlJXyTKAi"
      },
      "execution_count": null,
      "outputs": []
    },
    {
      "cell_type": "code",
      "source": [
        "#x and y covert in into int\n",
        "x_int = [get_int_seq(i) for i in x]\n",
        "y_int = [get_int_seq(j) for j in y]"
      ],
      "metadata": {
        "id": "Ie2mH2bpTuX9"
      },
      "execution_count": null,
      "outputs": []
    },
    {
      "cell_type": "code",
      "source": [
        "#convert lists to numpy arrays\n",
        "x_int = np.array(x_int)\n",
        "y_int = np.array(y_int)"
      ],
      "metadata": {
        "id": "xuE37VI2ZAWZ"
      },
      "execution_count": null,
      "outputs": []
    },
    {
      "cell_type": "code",
      "source": [
        "x_int[0]"
      ],
      "metadata": {
        "colab": {
          "base_uri": "https://localhost:8080/"
        },
        "id": "vPFLE6XbVeFr",
        "outputId": "181de6a2-0437-4ab3-957e-15eef758afff"
      },
      "execution_count": null,
      "outputs": [
        {
          "output_type": "execute_result",
          "data": {
            "text/plain": [
              "array([ 8529, 10318, 11945, 13967,  9685, 12862,   231,  3276])"
            ]
          },
          "metadata": {},
          "execution_count": 28
        }
      ]
    },
    {
      "cell_type": "code",
      "source": [
        "# def seq_int(seq):\n",
        "#   return [word2int[word] for sen in seq for word in sen.split()]\n",
        "#   #[[word2int(word)for sen in seq for word in sen.split()]]\n",
        "\n",
        "\n",
        "# x_int_1 = seq_int(x)\n",
        "# #y_int_2 = seq_int(y)"
      ],
      "metadata": {
        "id": "iOaPeIjDUMdG"
      },
      "execution_count": null,
      "outputs": []
    },
    {
      "cell_type": "code",
      "source": [
        "# b = []\n",
        "# for sen in x:\n",
        "#   a = []\n",
        "#   for j in sen.split():\n",
        "#     a.append(word2int[j])\n",
        "\n",
        "#   b.append(a)"
      ],
      "metadata": {
        "id": "n_7RpoICWcRi"
      },
      "execution_count": null,
      "outputs": []
    },
    {
      "cell_type": "code",
      "source": [
        "len(x_int) , len(y_int)"
      ],
      "metadata": {
        "colab": {
          "base_uri": "https://localhost:8080/"
        },
        "id": "KW-JZs2_hosS",
        "outputId": "55e21b8b-484c-47cb-e6b3-28446ec442bb"
      },
      "execution_count": null,
      "outputs": [
        {
          "output_type": "execute_result",
          "data": {
            "text/plain": [
              "(151501, 151501)"
            ]
          },
          "metadata": {},
          "execution_count": 31
        }
      ]
    },
    {
      "cell_type": "code",
      "source": [
        "#inputs,targets = torch.from_numpy(x_int) , torch.from_numpy(y_int)"
      ],
      "metadata": {
        "id": "Bt0TiGPTjPzO"
      },
      "execution_count": null,
      "outputs": []
    },
    {
      "cell_type": "code",
      "source": [
        "x_int.dtype"
      ],
      "metadata": {
        "colab": {
          "base_uri": "https://localhost:8080/"
        },
        "id": "nWXxhrjGkBA9",
        "outputId": "838eae62-1418-40d6-e17f-b5938e67174b"
      },
      "execution_count": null,
      "outputs": [
        {
          "output_type": "execute_result",
          "data": {
            "text/plain": [
              "dtype('int64')"
            ]
          },
          "metadata": {},
          "execution_count": 33
        }
      ]
    },
    {
      "cell_type": "code",
      "source": [
        "inputs = x_int\n",
        "targets = y_int"
      ],
      "metadata": {
        "id": "n9yvZpsBkzUy"
      },
      "execution_count": null,
      "outputs": []
    },
    {
      "cell_type": "code",
      "source": [
        "#train , test & validation\n",
        "train_ratio = 0.8\n",
        "valid_ratio = (1-train_ratio)/2\n",
        "#test_ratio = (1 -(train_ratio+valid_ratio))\n",
        "\n",
        "total = len(x_int)\n",
        "train_cutoff = int((total*train_ratio))\n",
        "valid_cutoff = int((total*(1-valid_ratio))) #(50*(0.9)) 45\n",
        "\n",
        "\n",
        "#numpy to tensor\n",
        "train_x, train_y = torch.Tensor(inputs[:train_cutoff]).long() , torch.Tensor(targets[:train_cutoff]).long()\n",
        "valid_x , valid_y = torch.Tensor(inputs[train_cutoff:valid_cutoff]).long() , torch.Tensor(targets[train_cutoff:valid_cutoff]).long()\n",
        "test_x , test_y = torch.Tensor(inputs[valid_cutoff:]).long() , torch.Tensor(targets[valid_cutoff:]).long()\n",
        "\n",
        "\n",
        "train_data = TensorDataset(train_x,train_y)\n",
        "valid_data = TensorDataset(valid_x ,valid_y)\n",
        "test_data = TensorDataset(test_x,test_y)\n",
        "\n",
        "batch_size = 32\n",
        "\n",
        "\n",
        "train_loader = DataLoader(train_data,batch_size = batch_size,shuffle=True,drop_last=True)\n",
        "valid_loader = DataLoader(valid_data,batch_size = batch_size,shuffle=True,drop_last=True)\n",
        "test_loader = DataLoader(test_data,batch_size = batch_size,shuffle=True,drop_last=True)"
      ],
      "metadata": {
        "id": "XAsHGZXrjAE-"
      },
      "execution_count": null,
      "outputs": []
    },
    {
      "cell_type": "code",
      "source": [
        "# n = 130\n",
        "# b = 8\n",
        "# 130/8 (2)"
      ],
      "metadata": {
        "id": "gXyEklvwiU-4"
      },
      "execution_count": null,
      "outputs": []
    },
    {
      "cell_type": "code",
      "source": [
        "for x , y in train_loader:\n",
        "  print(x.shape,y.shape)\n",
        "  break"
      ],
      "metadata": {
        "colab": {
          "base_uri": "https://localhost:8080/"
        },
        "id": "uUuyt4aUio6a",
        "outputId": "1953b7fb-82b0-43d5-8a30-e1b1c61b10d8"
      },
      "execution_count": null,
      "outputs": [
        {
          "output_type": "stream",
          "name": "stdout",
          "text": [
            "torch.Size([32, 8]) torch.Size([32, 8])\n"
          ]
        }
      ]
    },
    {
      "cell_type": "code",
      "source": [
        "# def get_batches(x_arr,y_arr,batch_size):\n",
        "#   c = 0\n",
        "#   for i in range(batch_size,x_arr.shape[0],batch_size):\n",
        "#     x = x_arr[c:i,:] #[0:32,:] , [32:64,:] , [64:96,:]\n",
        "#     y = y_arr[c:i,:] #[0:32,:] , [32:64,:] , [64:96,:]\n",
        "\n",
        "#     c = i #[32]\n",
        "\n",
        "#     yield x,y"
      ],
      "metadata": {
        "id": "GR7xF6aHXOob"
      },
      "execution_count": null,
      "outputs": []
    },
    {
      "cell_type": "code",
      "source": [
        ""
      ],
      "metadata": {
        "id": "siEfseOmiTvM"
      },
      "execution_count": null,
      "outputs": []
    },
    {
      "cell_type": "code",
      "source": [
        "x_int.shape"
      ],
      "metadata": {
        "colab": {
          "base_uri": "https://localhost:8080/"
        },
        "id": "zWXM3VssXhJr",
        "outputId": "5dd806eb-31c5-42a8-c82e-3083ffcaa5ee"
      },
      "execution_count": null,
      "outputs": [
        {
          "output_type": "execute_result",
          "data": {
            "text/plain": [
              "(151501, 8)"
            ]
          },
          "metadata": {},
          "execution_count": 39
        }
      ]
    },
    {
      "cell_type": "code",
      "source": [
        "class TextGenerationLSTM(nn.Module):\n",
        "\n",
        "  def __init__(self,n_vocab,n_embed,n_hidden,n_layers,drop_pr = 0.25):\n",
        "    super().__init__()\n",
        "    self.n_vocab = n_vocab\n",
        "    self.n_embed = n_embed\n",
        "    self.n_hidden = n_hidden \n",
        "    self.drop_pr = drop_pr \n",
        "    self.n_layers = n_layers\n",
        "\n",
        "    self.embedding = nn.Embedding(n_vocab,n_embed)\n",
        "    self.lstm = nn.LSTM(n_embed,n_hidden,n_layers,batch_first = True)\n",
        "    self.dropout = nn.Dropout(drop_pr)\n",
        "    self.fc = nn.Linear(n_hidden,n_vocab)\n",
        "\n",
        "  #(input , (hidden_state & cell state))\n",
        "  def forward(self,x,hidden):\n",
        "    \n",
        "    #pass the input through embedding layers\n",
        "    embedded = self.embedding(x)\n",
        "\n",
        "    #Get the output and new hidden state and cell state\n",
        "    n_out , hidden = self.lstm(embedded,hidden) #(lstm) (input,(hidden_state,cell_state)) \n",
        "\n",
        "    #pass the droupout\n",
        "    out = self.dropout(n_out)\n",
        "\n",
        "    #reshape\n",
        "    #out = out.contingous().view(-1,self.n_hidden)\n",
        "    out = out.reshape(-1,self.n_hidden)\n",
        "\n",
        "    out = self.fc(out)\n",
        "\n",
        "    return out,hidden\n",
        "\n",
        "\n",
        "  def init_hidden(self,batch_size):\n",
        "\n",
        "    '''initialize the hidden and cell state with size (n_layers * batch_size * n_hidden) ,\n",
        "    initialize to zero for both hidden and cell state of LSTM model '''\n",
        "\n",
        "    #hidden layer = Total no of neurons in hidden state (hidden_state value)\n",
        "\n",
        "    # LSTM (hidden state and cell state) (hidden state , cell (memory))\n",
        "    #120 neurons state ()\n",
        "\n",
        "    weights = next(self.parameters()).data\n",
        "\n",
        "    if (torch.cuda.is_available()):\n",
        "      hidden = (weights.new(self.n_layers , batch_size,self.n_hidden).zero_().cuda(),\n",
        "         weights.new(self.n_layers,batch_size,self.n_hidden).zero_().cuda())\n",
        "\n",
        "    else:\n",
        "      hidden = (weights.new(self.n_layers , batch_size,self.n_hidden).zero_(),\n",
        "         weights.new(self.n_layers,batch_size,self.n_hidden).zero_())\n",
        "      \n",
        "    return hidden"
      ],
      "metadata": {
        "id": "DPckkLGZZh4Q"
      },
      "execution_count": null,
      "outputs": []
    },
    {
      "cell_type": "code",
      "source": [
        "#n_vocab,n_embed,n_hidden,n_layers,drop_pr = 0.25\n",
        "n_vocab = len(int2word)\n",
        "n_embed = 200\n",
        "n_layers = 3\n",
        "n_hidden = 128\n",
        "\n",
        "net = TextGenerationLSTM(n_vocab,n_embed,n_hidden,n_layers,drop_pr = 0.25)"
      ],
      "metadata": {
        "id": "lI0RStsAbrRa"
      },
      "execution_count": null,
      "outputs": []
    },
    {
      "cell_type": "code",
      "source": [
        "net\n",
        "net.cuda()"
      ],
      "metadata": {
        "colab": {
          "base_uri": "https://localhost:8080/"
        },
        "id": "hVSAJ1UsgqNa",
        "outputId": "086198f6-8d60-4c24-9e79-569fcedbf1a0"
      },
      "execution_count": null,
      "outputs": [
        {
          "output_type": "execute_result",
          "data": {
            "text/plain": [
              "TextGenerationLSTM(\n",
              "  (embedding): Embedding(16531, 200)\n",
              "  (lstm): LSTM(200, 128, num_layers=3, batch_first=True)\n",
              "  (dropout): Dropout(p=0.25, inplace=False)\n",
              "  (fc): Linear(in_features=128, out_features=16531, bias=True)\n",
              ")"
            ]
          },
          "metadata": {},
          "execution_count": 42
        }
      ]
    },
    {
      "cell_type": "code",
      "source": [
        "print(net)"
      ],
      "metadata": {
        "colab": {
          "base_uri": "https://localhost:8080/"
        },
        "id": "MSvP7XUWhWkY",
        "outputId": "d3816501-14e9-46f0-e9a7-cc5179a7439e"
      },
      "execution_count": null,
      "outputs": [
        {
          "output_type": "stream",
          "name": "stdout",
          "text": [
            "TextGenerationLSTM(\n",
            "  (embedding): Embedding(16531, 200)\n",
            "  (lstm): LSTM(200, 128, num_layers=3, batch_first=True)\n",
            "  (dropout): Dropout(p=0.25, inplace=False)\n",
            "  (fc): Linear(in_features=128, out_features=16531, bias=True)\n",
            ")\n"
          ]
        }
      ]
    },
    {
      "cell_type": "code",
      "source": [
        "optimizer = torch.optim.Adam(net.parameters(),lr=0.001)\n",
        "loss_fn = nn.CrossEntropyLoss()"
      ],
      "metadata": {
        "id": "_6IXO2iwh4YU"
      },
      "execution_count": null,
      "outputs": []
    },
    {
      "cell_type": "code",
      "source": [
        "def acc(pred,label):\n",
        "  pred = torch.round(pred)\n",
        "  return torch.sum(pred==label).item()"
      ],
      "metadata": {
        "id": "2lp16Yg3lZ9J"
      },
      "execution_count": null,
      "outputs": []
    },
    {
      "cell_type": "code",
      "source": [
        "'''The error may caused by your training data not being divisible by batch size. \n",
        "Suppose your training data has 130 items and batch size is 8, the last batch will have only 2 \n",
        "(remainder of 130/8) items. Therefore by setting drop_last to True, the 2 items will be ignored.'''"
      ],
      "metadata": {
        "colab": {
          "base_uri": "https://localhost:8080/",
          "height": 53
        },
        "id": "IXfH0mbKrA8e",
        "outputId": "ab96d602-f552-46da-e64e-764cbc3126e5"
      },
      "execution_count": null,
      "outputs": [
        {
          "output_type": "execute_result",
          "data": {
            "text/plain": [
              "'The error may caused by your training data not being divisible by batch size. \\nSuppose your training data has 130 items and batch size is 8, the last batch will have only 2 \\n(remainder of 130/8) items. Therefore by setting drop_last to True, the 2 items will be ignored.'"
            ],
            "application/vnd.google.colaboratory.intrinsic+json": {
              "type": "string"
            }
          },
          "metadata": {},
          "execution_count": 46
        }
      ]
    },
    {
      "cell_type": "code",
      "source": [
        "def train_sentiment(net,loss_fn,optimizer,epochs=20):\n",
        "\n",
        "  for epoch in range(epochs):\n",
        "    h = net.init_hidden(batch_size=32)\n",
        "    #print(h[0].shape)\n",
        "    train_loss = 0.0\n",
        "    train_acc = 0.0\n",
        "    valid_loss = 0.0\n",
        "    valid_acc = 0.0\n",
        "\n",
        "\n",
        "    net.train()\n",
        "\n",
        "    for input,labels in train_loader:\n",
        "      h = tuple([i.data for i in h]) #tuple([hidden_state,cell_state])\n",
        "      input , labels = input.cuda() , labels.cuda()\n",
        "      #print(h[0].shape)\n",
        "      # print(input.shape,labels.shape)\n",
        "     \n",
        "    \n",
        "      output,h = net(input,h)\n",
        "      optimizer.zero_grad()\n",
        "\n",
        "      loss = loss_fn(output,labels.view(-1))\n",
        "      loss.backward()\n",
        "      train_loss += loss.item()\n",
        "\n",
        "      # print(labels.shape)\n",
        "      #print(output.shape)\n",
        "      #accuracy = acc(output,labels.view(-1))\n",
        "      #train_acc += accuracy\n",
        "\n",
        "      optimizer.step()\n",
        "\n",
        "    net.eval()\n",
        "\n",
        "    for input,labels in valid_loader:\n",
        "      input , labels = input.cuda() , labels.cuda()\n",
        "      h = tuple([i.data for i in h]) #tuple([hidden_state,cell_state])\n",
        "      output,h = net(input,h)\n",
        "      \n",
        "\n",
        "      loss = loss_fn(output,labels.view(-1))\n",
        "      valid_loss += loss.item()\n",
        "\n",
        "      # accuracy = acc(output,labels)\n",
        "\n",
        "      # valid_acc += accuracy\n",
        "\n",
        "    print(\"Epoch {} , Train_loss : {:.2f},valid_loss : {:.2f}\".format(\n",
        "        epoch+1 , train_loss/len(test_loader),valid_loss/len(valid_loader)))"
      ],
      "metadata": {
        "id": "BePNQEeilDcj"
      },
      "execution_count": null,
      "outputs": []
    },
    {
      "cell_type": "code",
      "source": [
        "train_sentiment(net,loss_fn,optimizer,epochs=40)"
      ],
      "metadata": {
        "colab": {
          "base_uri": "https://localhost:8080/"
        },
        "id": "GgL4XiBylQrr",
        "outputId": "44b9fe88-a6dd-4a10-f697-b16317057bca"
      },
      "execution_count": null,
      "outputs": [
        {
          "output_type": "stream",
          "name": "stdout",
          "text": [
            "Epoch 1 , Train_loss : 51.95,valid_loss : 7.54\n",
            "Epoch 2 , Train_loss : 44.57,valid_loss : 8.18\n",
            "Epoch 3 , Train_loss : 40.34,valid_loss : 8.81\n",
            "Epoch 4 , Train_loss : 37.31,valid_loss : 9.46\n",
            "Epoch 5 , Train_loss : 35.07,valid_loss : 10.04\n",
            "Epoch 6 , Train_loss : 33.33,valid_loss : 10.49\n",
            "Epoch 7 , Train_loss : 31.94,valid_loss : 10.82\n",
            "Epoch 8 , Train_loss : 30.77,valid_loss : 11.18\n",
            "Epoch 9 , Train_loss : 29.82,valid_loss : 11.42\n",
            "Epoch 10 , Train_loss : 28.95,valid_loss : 11.65\n",
            "Epoch 11 , Train_loss : 28.21,valid_loss : 11.89\n",
            "Epoch 12 , Train_loss : 27.52,valid_loss : 12.12\n",
            "Epoch 13 , Train_loss : 26.93,valid_loss : 12.34\n",
            "Epoch 14 , Train_loss : 26.39,valid_loss : 12.56\n",
            "Epoch 15 , Train_loss : 25.87,valid_loss : 12.69\n",
            "Epoch 16 , Train_loss : 25.41,valid_loss : 12.85\n",
            "Epoch 17 , Train_loss : 25.01,valid_loss : 13.02\n",
            "Epoch 18 , Train_loss : 24.59,valid_loss : 13.15\n",
            "Epoch 19 , Train_loss : 24.23,valid_loss : 13.31\n",
            "Epoch 20 , Train_loss : 23.92,valid_loss : 13.37\n",
            "Epoch 21 , Train_loss : 23.58,valid_loss : 13.44\n",
            "Epoch 22 , Train_loss : 23.27,valid_loss : 13.53\n",
            "Epoch 23 , Train_loss : 22.99,valid_loss : 13.64\n",
            "Epoch 24 , Train_loss : 22.76,valid_loss : 13.81\n",
            "Epoch 25 , Train_loss : 22.49,valid_loss : 13.88\n",
            "Epoch 26 , Train_loss : 22.25,valid_loss : 14.02\n",
            "Epoch 27 , Train_loss : 22.00,valid_loss : 14.06\n",
            "Epoch 28 , Train_loss : 21.83,valid_loss : 14.22\n",
            "Epoch 29 , Train_loss : 21.62,valid_loss : 14.23\n",
            "Epoch 30 , Train_loss : 21.41,valid_loss : 14.27\n",
            "Epoch 31 , Train_loss : 21.22,valid_loss : 14.33\n",
            "Epoch 32 , Train_loss : 21.04,valid_loss : 14.34\n",
            "Epoch 33 , Train_loss : 20.91,valid_loss : 14.47\n",
            "Epoch 34 , Train_loss : 20.73,valid_loss : 14.58\n",
            "Epoch 35 , Train_loss : 20.59,valid_loss : 14.64\n",
            "Epoch 36 , Train_loss : 20.42,valid_loss : 14.63\n",
            "Epoch 37 , Train_loss : 20.31,valid_loss : 14.69\n",
            "Epoch 38 , Train_loss : 20.15,valid_loss : 14.73\n",
            "Epoch 39 , Train_loss : 20.04,valid_loss : 14.80\n",
            "Epoch 40 , Train_loss : 19.90,valid_loss : 14.87\n"
          ]
        }
      ]
    },
    {
      "cell_type": "code",
      "source": [
        "# def train(net,epochs=10,batch_size=32,clip=1):\n",
        "\n",
        "#   net.train()\n",
        "#   c = 0\n",
        "  \n",
        "\n",
        "#   for epoch in range(epochs):\n",
        "\n",
        "#     #initialize hidden state/cell state\n",
        "#     h = net.init_hidden(batch_size)\n",
        "\n",
        "#     # c = 0 #h - (hidden ,cell state ) (d)\n",
        "\n",
        "#     # for i in h:\n",
        "#     #   #print(i)\n",
        "#     #   c += 1\n",
        "\n",
        "#     # print(c)\n",
        "    \n",
        "#     for x,y in get_batches(x_int,y_int,batch_size):\n",
        "#       c += 1\n",
        "\n",
        "#       #(32,8)\n",
        "\n",
        "#       #convert numoy to tensor\n",
        "#       inputs,targets = torch.from_numpy(x) , torch.from_numpy(y)\n",
        "\n",
        "\n",
        "#       #Tensor to cuda\n",
        "#       inputs , targets = inputs.cuda() , targets.cuda()\n",
        "\n",
        "#       #detach hidden states\n",
        "#       h = tuple([i.data for i in h]) #tuple([hidden_state,cell_state])\n",
        "\n",
        "#       output , h = net(inputs,h) #(hidden,cellstate)\n",
        "\n",
        "#       # gradient = 10 ( Wn = Wo - lr*gr) (4,10,1-000,10000,1000) (-1,1) max(-x,1=x) max(0,x)\n",
        "\n",
        "#       loss = loss_fn(output,targets.view(-1))\n",
        "\n",
        "#       loss.backward() #claculating gradeint \n",
        "\n",
        "#       nn.utils.clip_grad_norm_(net.parameters(),clip)\n",
        "\n",
        "#       opt.step()\n",
        "\n",
        "\n",
        "#     if c%32==0:\n",
        "#         print(\"Epoch {} / {} , loss {:.2f}\".format(epoch ,epochs,loss))\n",
        "\n",
        "\n",
        "#       #a = targets.view(-1)\n",
        "#       #print(a)\n",
        "#       #print(a.shape)\n",
        "\n",
        "#       #print(loss)\n",
        "#       #print(output[1].shape)\n",
        "#       #print(output.shape)\n",
        "#       # print(targets.shape)\n",
        "#       # print(inputs.shape)\n",
        "\n",
        "#     #[0,0,2,0.3,0.4,50"
      ],
      "metadata": {
        "id": "MBhrL7rziDa3"
      },
      "execution_count": null,
      "outputs": []
    },
    {
      "cell_type": "code",
      "source": [
        "def predict(net,tkn,h = None):\n",
        "\n",
        "  # tensor inputs\n",
        "\n",
        "  # net.cuda()\n",
        "\n",
        "  # net.eval()\n",
        "\n",
        "  # h = net.init_hidden(1)\n",
        "\n",
        "  x = np.array([[word2int[tkn]]])\n",
        "  inputs = torch.from_numpy(x)\n",
        "\n",
        "  # To gpu\n",
        "  inputs = inputs.cuda()\n",
        "\n",
        "  # detech hidden & cell state \n",
        "  h = tuple([i.data for i in h])\n",
        "\n",
        "  # get the output of the model\n",
        "  out , h = net(inputs,h)\n",
        "\n",
        "\n",
        "\n",
        "\n",
        "  # get the token proba\n",
        "  p = F.softmax(out,dim=1).data # cuda\n",
        "\n",
        "  p = p.cpu()\n",
        "  p = p.numpy()\n",
        "\n",
        "  p = p.reshape(p.shape[1],)\n",
        "\n",
        "  #get indices of next or top 3 values\n",
        "  top_n_indx = p.argsort()[-1:][::-1][0]\n",
        "\n",
        "  #random selct one of the two indecies \n",
        "\n",
        "  return int2word[top_n_indx] , h"
      ],
      "metadata": {
        "id": "aIhM4z7fk2Se"
      },
      "execution_count": null,
      "outputs": []
    },
    {
      "cell_type": "code",
      "source": [
        "#function generate text\n",
        "def sample(net,size,prime=\"it is good\"):\n",
        "\n",
        "  # To GPU\n",
        "  net.cuda()\n",
        "\n",
        "  net.eval()\n",
        "\n",
        "  #batch size as 1\n",
        "  h = net.init_hidden(1)\n",
        "\n",
        "  tokens = prime.split() # [\"it\",\"is\",\"good\"]\n",
        "\n",
        "  #predict next token\n",
        "  for t in tokens:\n",
        "    token , h = predict(net,t.lower(),h)\n",
        "\n",
        "  tokens.append(token)\n",
        "\n",
        "  #predict subseuit toekns\n",
        "\n",
        "  for i in range(size):\n",
        "    token , h  = predict(net,tokens[-1],h)\n",
        "    tokens.append(token)\n",
        "\n",
        "  return \" \".join(tokens)"
      ],
      "metadata": {
        "id": "V3oLhuuMrYaC"
      },
      "execution_count": null,
      "outputs": []
    },
    {
      "cell_type": "code",
      "source": [
        "sample(net,100,\"we have to find the\")"
      ],
      "metadata": {
        "colab": {
          "base_uri": "https://localhost:8080/",
          "height": 89
        },
        "id": "dk9rlj-VrbEB",
        "outputId": "3a61a5f9-41be-4a51-c2a2-d60ef727e765"
      },
      "execution_count": null,
      "outputs": [
        {
          "output_type": "execute_result",
          "data": {
            "text/plain": [
              "'we have to find the capsule at the beginning of the film dille becomes a professor at the hands of the police station but the man who has been rebuilding her career in love with the painters wife and rapes her he discovers that she is a good student and gets admitted to an argument that caused the car and the film ends with a quote from diggler all the two men pair with force 10 and forces her to be the object of the captains secret affection nothing in the park while the assassin stands emotionless in front of the group katie stabs him in'"
            ],
            "application/vnd.google.colaboratory.intrinsic+json": {
              "type": "string"
            }
          },
          "metadata": {},
          "execution_count": 58
        }
      ]
    },
    {
      "cell_type": "code",
      "source": [
        ""
      ],
      "metadata": {
        "id": "Vjk_MWqVtQqI"
      },
      "execution_count": null,
      "outputs": []
    },
    {
      "cell_type": "code",
      "source": [
        ""
      ],
      "metadata": {
        "id": "YLt5fiC1wpUS"
      },
      "execution_count": null,
      "outputs": []
    }
  ]
}